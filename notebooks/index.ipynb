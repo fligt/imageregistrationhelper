{
 "cells": [
  {
   "cell_type": "markdown",
   "metadata": {},
   "source": [
    "# Welcome to imageregistrationhelper\n",
    "\n",
    "> Register your images with interactive widgets in Jupyter notebooks"
   ]
  },
  {
   "cell_type": "markdown",
   "metadata": {},
   "source": [
    "The capability to register or overlay of different technical images is important in cultural heritage science. Although such overlays can be created with various programs such as photo editors, the coordinates of corresponding landmarks and transformation matrices is typically lost. \n",
    "\n",
    "This python package is developed to perform interactive four point image registration within Jupyter notebooks. In this way registration can be made part of a larger computational workflow. "
   ]
  }
 ],
 "metadata": {
  "kernelspec": {
   "display_name": "python3",
   "language": "python",
   "name": "python3"
  }
 },
 "nbformat": 4,
 "nbformat_minor": 4
}
